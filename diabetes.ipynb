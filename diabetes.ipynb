{
 "cells": [
  {
   "cell_type": "code",
   "execution_count": 1,
   "id": "f40c652b-5377-4210-bf05-6ec3e1c8e66f",
   "metadata": {
    "tags": []
   },
   "outputs": [],
   "source": [
    "import pandas as pd\n",
    "import numpy as np \n",
    "from sklearn import svm\n",
    "from sklearn.metrics import accuracy_score\n",
    "from sklearn.preprocessing import StandardScaler\n",
    "from sklearn.model_selection import train_test_split"
   ]
  },
  {
   "cell_type": "code",
   "execution_count": 2,
   "id": "97916b41-ff0a-4f0c-8204-031e931bab5d",
   "metadata": {
    "tags": []
   },
   "outputs": [
    {
     "data": {
      "text/plain": [
       "(768, 9)"
      ]
     },
     "execution_count": 2,
     "metadata": {},
     "output_type": "execute_result"
    }
   ],
   "source": [
    "df=pd.read_csv('diabetes.csv')\n",
    "df.head()\n",
    "df.shape"
   ]
  },
  {
   "cell_type": "code",
   "execution_count": 4,
   "id": "eee5f1d5-47f5-4528-96a0-d246aff87265",
   "metadata": {
    "tags": []
   },
   "outputs": [
    {
     "data": {
      "text/plain": [
       "Outcome\n",
       "0    500\n",
       "1    268\n",
       "Name: count, dtype: int64"
      ]
     },
     "execution_count": 4,
     "metadata": {},
     "output_type": "execute_result"
    }
   ],
   "source": [
    "df['Outcome'].value_counts()"
   ]
  },
  {
   "cell_type": "markdown",
   "id": "811dd7a0-fc64-4943-af07-83b6ae83e0af",
   "metadata": {},
   "source": [
    "# Seperating datas and labels"
   ]
  },
  {
   "cell_type": "code",
   "execution_count": 14,
   "id": "383f9ac0-1d30-45e4-b247-bfeb4ad6e292",
   "metadata": {
    "tags": []
   },
   "outputs": [
    {
     "name": "stdout",
     "output_type": "stream",
     "text": [
      "     Pregnancies  Glucose  BloodPressure  SkinThickness  Insulin   BMI  \\\n",
      "0              6      148             72             35        0  33.6   \n",
      "1              1       85             66             29        0  26.6   \n",
      "2              8      183             64              0        0  23.3   \n",
      "3              1       89             66             23       94  28.1   \n",
      "4              0      137             40             35      168  43.1   \n",
      "..           ...      ...            ...            ...      ...   ...   \n",
      "763           10      101             76             48      180  32.9   \n",
      "764            2      122             70             27        0  36.8   \n",
      "765            5      121             72             23      112  26.2   \n",
      "766            1      126             60              0        0  30.1   \n",
      "767            1       93             70             31        0  30.4   \n",
      "\n",
      "     DiabetesPedigreeFunction  Age  \n",
      "0                       0.627   50  \n",
      "1                       0.351   31  \n",
      "2                       0.672   32  \n",
      "3                       0.167   21  \n",
      "4                       2.288   33  \n",
      "..                        ...  ...  \n",
      "763                     0.171   63  \n",
      "764                     0.340   27  \n",
      "765                     0.245   30  \n",
      "766                     0.349   47  \n",
      "767                     0.315   23  \n",
      "\n",
      "[768 rows x 8 columns]\n",
      "0      1\n",
      "1      0\n",
      "2      1\n",
      "3      0\n",
      "4      1\n",
      "      ..\n",
      "763    0\n",
      "764    0\n",
      "765    0\n",
      "766    1\n",
      "767    0\n",
      "Name: Outcome, Length: 768, dtype: int64\n"
     ]
    }
   ],
   "source": [
    "X=df.drop(columns='Outcome',axis=1)\n",
    "Y=df['Outcome']\n",
    "print(X)\n",
    "print(Y)"
   ]
  },
  {
   "cell_type": "markdown",
   "id": "a208de42-0acd-4519-a0d6-c5cedb3ece86",
   "metadata": {},
   "source": [
    "# Standardizing the data \n",
    "(Why? --> when the datas are in various value ranges it will be difficult for the machine learning model to make a accurate prediction , so we standardize the datas to a common value range with respect to its original value to make a prediction with better accuracy )"
   ]
  },
  {
   "cell_type": "code",
   "execution_count": 4,
   "id": "cff286fc-ed7c-4f76-8969-8fce7f15c8ac",
   "metadata": {
    "tags": []
   },
   "outputs": [
    {
     "name": "stdout",
     "output_type": "stream",
     "text": [
      "[[ 0.63994726  0.84832379  0.14964075 ...  0.20401277  0.46849198\n",
      "   1.4259954 ]\n",
      " [-0.84488505 -1.12339636 -0.16054575 ... -0.68442195 -0.36506078\n",
      "  -0.19067191]\n",
      " [ 1.23388019  1.94372388 -0.26394125 ... -1.10325546  0.60439732\n",
      "  -0.10558415]\n",
      " ...\n",
      " [ 0.3429808   0.00330087  0.14964075 ... -0.73518964 -0.68519336\n",
      "  -0.27575966]\n",
      " [-0.84488505  0.1597866  -0.47073225 ... -0.24020459 -0.37110101\n",
      "   1.17073215]\n",
      " [-0.84488505 -0.8730192   0.04624525 ... -0.20212881 -0.47378505\n",
      "  -0.87137393]]\n"
     ]
    }
   ],
   "source": [
    "scale=StandardScaler()\n",
    "X=scale.fit_transform(X)\n",
    "print(X)"
   ]
  },
  {
   "cell_type": "markdown",
   "id": "6dc787a3-3edd-46d3-a1c4-5be6100212cb",
   "metadata": {},
   "source": [
    "# Train and Test Split"
   ]
  },
  {
   "cell_type": "code",
   "execution_count": 5,
   "id": "8846c7b4-27f6-42b7-bf70-8b37358f1417",
   "metadata": {
    "tags": []
   },
   "outputs": [],
   "source": [
    "X_train,X_test,Y_train,Y_test=train_test_split(X,Y,test_size=0.2,stratify=Y,random_state=1)"
   ]
  },
  {
   "cell_type": "code",
   "execution_count": 6,
   "id": "74f07d0a-eb94-4cd7-b819-4514ca0c2e35",
   "metadata": {
    "tags": []
   },
   "outputs": [],
   "source": [
    "clf=svm.SVC(kernel='linear').fit(X_train,Y_train)\n"
   ]
  },
  {
   "cell_type": "markdown",
   "id": "ea5be0a1-437b-4cf7-9feb-ed45a8d370e3",
   "metadata": {
    "tags": []
   },
   "source": [
    "# Accuracy check"
   ]
  },
  {
   "cell_type": "markdown",
   "id": "d27e146f-543c-41c2-b620-14a2c0a85deb",
   "metadata": {},
   "source": [
    "# Training Values"
   ]
  },
  {
   "cell_type": "code",
   "execution_count": 7,
   "id": "212e70d8-87d0-4962-b7bb-8b17364f6b7e",
   "metadata": {
    "tags": []
   },
   "outputs": [
    {
     "name": "stdout",
     "output_type": "stream",
     "text": [
      "78.33876221498372\n"
     ]
    }
   ],
   "source": [
    "train_acc=clf.predict(X_train)\n",
    "acc_score=accuracy_score(train_acc,Y_train)\n",
    "print(acc_score*100)"
   ]
  },
  {
   "cell_type": "markdown",
   "id": "ded50465-c077-4749-b4dc-98c877ddbed3",
   "metadata": {},
   "source": [
    "# Test Values"
   ]
  },
  {
   "cell_type": "code",
   "execution_count": 8,
   "id": "153b32dc-fd03-4b11-9cc7-f0aaf1571eeb",
   "metadata": {
    "tags": []
   },
   "outputs": [
    {
     "name": "stdout",
     "output_type": "stream",
     "text": [
      "77.92207792207793\n"
     ]
    }
   ],
   "source": [
    "test_acc=clf.predict(X_test)\n",
    "acc_tscore=accuracy_score(test_acc,Y_test)\n",
    "print(acc_tscore*100)"
   ]
  },
  {
   "cell_type": "markdown",
   "id": "989e9e42-27b2-4391-860c-dc863afb387b",
   "metadata": {},
   "source": [
    "# Input "
   ]
  },
  {
   "cell_type": "code",
   "execution_count": 16,
   "id": "9c02d2dd-3a54-4fd5-b1e8-1a619b006222",
   "metadata": {
    "tags": []
   },
   "outputs": [
    {
     "name": "stdout",
     "output_type": "stream",
     "text": [
      "[[ 1.82781311  1.4742667   0.25303625 -1.28821221 -0.69289057  0.76245745\n",
      "   0.1966813   0.06459135]]\n",
      "[1]\n",
      "Diabetic\n"
     ]
    },
    {
     "name": "stderr",
     "output_type": "stream",
     "text": [
      "C:\\Users\\itsrs\\anaconda3\\Lib\\site-packages\\sklearn\\base.py:464: UserWarning: X does not have valid feature names, but StandardScaler was fitted with feature names\n",
      "  warnings.warn(\n"
     ]
    }
   ],
   "source": [
    "input_data=(10,168,74,0,0,38,0.537,34)\n",
    "\n",
    "input_arr=np.asarray(input_data)\n",
    "\n",
    "input_data_re=input_arr.reshape(1,-1)\n",
    "#print(input_data_re)\n",
    "\n",
    "std_data=scale.transform(input_data_re)\n",
    "print(std_data)\n",
    "\n",
    "\n",
    "prediction=clf.predict(std_data)\n",
    "print(prediction)\n",
    "if(prediction[0]==0):print(\"Non-Diabetic\")\n",
    "else:print(\"Diabetic\")"
   ]
  }
 ],
 "metadata": {
  "kernelspec": {
   "display_name": "Python 3 (ipykernel)",
   "language": "python",
   "name": "python3"
  },
  "language_info": {
   "codemirror_mode": {
    "name": "ipython",
    "version": 3
   },
   "file_extension": ".py",
   "mimetype": "text/x-python",
   "name": "python",
   "nbconvert_exporter": "python",
   "pygments_lexer": "ipython3",
   "version": "3.11.5"
  }
 },
 "nbformat": 4,
 "nbformat_minor": 5
}
